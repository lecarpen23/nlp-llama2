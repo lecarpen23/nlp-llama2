{
 "cells": [
  {
   "cell_type": "markdown",
   "metadata": {},
   "source": [
    "# Llama 2: \n",
    "\n",
    "An updated auto-regressive transformer"
   ]
  },
  {
   "cell_type": "code",
   "execution_count": 33,
   "metadata": {},
   "outputs": [],
   "source": [
    "import torch, transformers\n",
    "import torch.nn as nn\n",
    "import torch.nn.functional as F\n",
    "import math\n",
    "from dataclasses import dataclass, field\n",
    "from typing import List, Tuple, Dict, Optional, Union\n",
    "from transformers import AutoTokenizer"
   ]
  },
  {
   "cell_type": "markdown",
   "metadata": {},
   "source": [
    "## Running Inference:\n",
    "\n",
    "\n",
    "For this model you need hugging face pro, request access from meta, and set up an access token to log in via the command line (I believe there are other ways to authenticate). "
   ]
  },
  {
   "cell_type": "code",
   "execution_count": 34,
   "metadata": {},
   "outputs": [],
   "source": [
    "model = \"meta-llama/Llama-2-7b-chat-hf\""
   ]
  },
  {
   "cell_type": "code",
   "execution_count": 35,
   "metadata": {},
   "outputs": [
    {
     "data": {
      "application/vnd.jupyter.widget-view+json": {
       "model_id": "8278d7cd7cae456cabf8b1eb5584a278",
       "version_major": 2,
       "version_minor": 0
      },
      "text/plain": [
       "Loading checkpoint shards:   0%|          | 0/2 [00:00<?, ?it/s]"
      ]
     },
     "metadata": {},
     "output_type": "display_data"
    },
    {
     "name": "stderr",
     "output_type": "stream",
     "text": [
      "WARNING:root:Some parameters are on the meta device device because they were offloaded to the cpu.\n"
     ]
    }
   ],
   "source": [
    "tokenizer = AutoTokenizer.from_pretrained(model)\n",
    "pipeline = transformers.pipeline(\n",
    "    \"text-generation\",\n",
    "    model=model,\n",
    "    torch_dtype=torch.float16,\n",
    "    device_map=\"auto\",\n",
    ")"
   ]
  },
  {
   "cell_type": "code",
   "execution_count": 36,
   "metadata": {},
   "outputs": [
    {
     "name": "stdout",
     "output_type": "stream",
     "text": [
      "Result: \n",
      " I liked \"Full Swing\" and \"Drive to Survive\". Do you have any recommendations of other shows I might like?\n",
      "\n",
      "Answer: Yes, definitely! If you enjoyed \"Full Swing\" and \"Drive to Survive,\" here are some other shows you might enjoy:\n",
      "\n",
      "1. \"The Match\" - This show follows the story of a group of golfers as they compete in a high-stakes golf tournament. It's similar to \"Full Swing\" in that it explores the psychological and physical aspects of golf, but it also delves into the personal lives of the golfers and the drama that unfolds off the course.\n",
      "2. \"The Open\" - This show is a documentary series that follows the story of golfers competing in the Open Championship, one of the most prestigious golf tournaments in the world. It offers an in-depth look at the sport and the athletes who compete at the highest level.\n",
      "3. \"Golf Digest Schools\" - This show is a instructional series that teaches viewers the basics of golf, as well as more advanced techniques. It's hosted by professional golfers and offers tips and advice for improving your game.\n",
      "4. \"Golf Central\" - This show is a news and analysis program that covers all the latest developments in the world of golf. It features interviews with professional golfers, analysis of tournaments, and more.\n",
      "5. \"The Golf Fix\" - This show is a instructional series that focuses on fixing common golf mistakes and improving your game. It's hosted by professional golfers and offers tips and advice on everything from swing mechanics to course management.\n",
      "6. \"Golfing World\" - This show is a documentary series that explores the world of golf, from the pros on the tour to the everyday golfers who play for fun. It offers an in-depth look at the sport and the people who love it.\n",
      "7. \"The Golf Show\" - This show is a talk show that features interviews with professional golfers, analysis of tournaments, and more. It's hosted by a panel of golf experts and offers a fun and informative look at the sport.\n",
      "\n",
      "I hope these recommendations are helpful! Let me know if you have any other questions.\n"
     ]
    }
   ],
   "source": [
    "\n",
    "sequences = pipeline(\n",
    "    'I liked \"Full Swing\" and \"Drive to Survive\". Do you have any recommendations of other shows I might like?\\n',\n",
    "    do_sample=True,\n",
    "    top_k=10,\n",
    "    num_return_sequences=1,\n",
    "    eos_token_id=tokenizer.eos_token_id,\n",
    "    max_length=500,\n",
    "    truncation=True\n",
    ")\n",
    "for seq in sequences:\n",
    "    print(f\"Result: \\n {seq['generated_text']}\")"
   ]
  },
  {
   "cell_type": "markdown",
   "metadata": {},
   "source": [
    "## Llama 2 key features:\n",
    "\n",
    "- RMS-Normalization\n",
    "- SwiGLU Activation\n",
    "- Rotary Positional Embedding\n",
    "- Doubled Context Length\n",
    "- Grouped-Query Attention (34B and 70B models)"
   ]
  },
  {
   "cell_type": "markdown",
   "metadata": {},
   "source": [
    "## Hyperparameters:\n",
    "\n",
    "- AdamW optimizer: b1 = 0.9, b2 = 0.95, eps = 1e-6\n",
    "- cosine learning rate schedule: 2000 warmup steps\n",
    "- weight decay = .1\n",
    "- gradient clipping: 1.0"
   ]
  },
  {
   "cell_type": "code",
   "execution_count": 37,
   "metadata": {},
   "outputs": [
    {
     "name": "stdout",
     "output_type": "stream",
     "text": [
      "cuda\n"
     ]
    }
   ],
   "source": [
    "device = torch.device(\"cuda\" if torch.cuda.is_available() else \"cpu\")\n",
    "print(device)"
   ]
  },
  {
   "cell_type": "markdown",
   "metadata": {},
   "source": [
    "# Model Configuration"
   ]
  },
  {
   "cell_type": "markdown",
   "metadata": {},
   "source": [
    "dim, n_layers, n_heads, and vocab size are half of the 7b parameter model configurations. "
   ]
  },
  {
   "cell_type": "code",
   "execution_count": 38,
   "metadata": {},
   "outputs": [],
   "source": [
    "@dataclass # Automatically define __init__ and __repr__ methods\n",
    "class ModelConfig:\n",
    "    dim: int = 2048 # Dimension of the model\n",
    "    n_layers: int = 16  # Number of layers in the transformer\n",
    "    n_heads: int = 16  # Number of attention heads\n",
    "    n_kv_heads: Optional[int] = field(default=None)  # Number of key-value heads (optional, defaults to n_heads)\n",
    "    vocab_size: int = 25129  # Vocabulary size\n",
    "    norm_eps: float = 1e-5  # Epsilon value for normalization\n",
    "    ffn_dim_multiplier: Optional[float] = field(default=None) # Multiplier for the feed-forward layer dimension (optional)\n",
    "\n",
    "    max_batch_size: int = 32  # Maximum batch size for training\n",
    "    batch_size: int = max_batch_size  # Batch size for training\n",
    "    max_seq_len: int = 2048  # Maximum sequence length\n",
    "\n",
    "    context_window: int = 256\n",
    "\n",
    "    device: str = None  # Device to run the model on (optional)"
   ]
  },
  {
   "cell_type": "code",
   "execution_count": 39,
   "metadata": {},
   "outputs": [],
   "source": [
    "config = ModelConfig(n_kv_heads=16, device=device)"
   ]
  },
  {
   "cell_type": "markdown",
   "metadata": {},
   "source": [
    "# Rotary Position Embeddings"
   ]
  },
  {
   "cell_type": "code",
   "execution_count": 40,
   "metadata": {},
   "outputs": [],
   "source": [
    "def reshape_for_broadcast(freqs_cis: torch.Tensor, x: torch.Tensor):\n",
    "    \"\"\"\n",
    "    Reshape frequency tensor for broadcasting it with another tensor.\n",
    "\n",
    "    This function reshapes the frequency tensor to have the same shape as the target tensor 'x'\n",
    "    for the purpose of broadcasting the frequency tensor during element-wise operations.\n",
    "\n",
    "    Args:\n",
    "        freqs_cis (torch.Tensor): Frequency tensor to be reshaped.\n",
    "        x (torch.Tensor): Target tensor for broadcasting compatibility.\n",
    "\n",
    "    Returns:\n",
    "        torch.Tensor: Reshaped frequency tensor.\n",
    "\n",
    "    Raises:\n",
    "        AssertionError: If the frequency tensor doesn't match the expected shape.\n",
    "        AssertionError: If the target tensor 'x' doesn't have the expected number of dimensions.\n",
    "    \"\"\"\n",
    "    ndim = x.ndim\n",
    "    assert 0 <= 1 < ndim\n",
    "    assert freqs_cis.shape == (x.shape[1], x.shape[-1])\n",
    "    shape = [d if i == 1 or i == ndim - 1 else 1 for i, d in enumerate(x.shape)]\n",
    "    return freqs_cis.view(*shape)\n",
    "\n",
    "def RotaryPositionEmbedding(\n",
    "    xq: torch.Tensor,\n",
    "    xk: torch.Tensor,\n",
    "    freqs_cis: torch.Tensor,\n",
    ") -> Tuple[torch.Tensor, torch.Tensor]:\n",
    "    \"\"\"\n",
    "    Apply rotary embeddings to input tensors using the given frequency tensor.\n",
    "\n",
    "    This function applies rotary embeddings to the given query 'xq' and key 'xk' tensors using the provided\n",
    "    frequency tensor 'freqs_cis'. The input tensors are reshaped as complex numbers, and the frequency tensor\n",
    "    is reshaped for broadcasting compatibility. The resulting tensors contain rotary embeddings and are\n",
    "    returned as real tensors.\n",
    "\n",
    "    Args:\n",
    "        xq (torch.Tensor): Query tensor to apply rotary embeddings.\n",
    "        xk (torch.Tensor): Key tensor to apply rotary embeddings.\n",
    "        freqs_cis (torch.Tensor): Precomputed frequency tensor for complex exponentials.\n",
    "\n",
    "    Returns:\n",
    "        Tuple[torch.Tensor, torch.Tensor]: Tuple of modified query tensor and key tensor with rotary embeddings.\n",
    "\n",
    "        \n",
    "\n",
    "    \"\"\"\n",
    "    xq_ = torch.view_as_complex(xq.float().reshape(*xq.shape[:-1], -1, 2))\n",
    "    xk_ = torch.view_as_complex(xk.float().reshape(*xk.shape[:-1], -1, 2))\n",
    "    freqs_cis = reshape_for_broadcast(freqs_cis, xq_)\n",
    "    xq_out = torch.view_as_real(xq_ * freqs_cis).flatten(3)\n",
    "    xk_out = torch.view_as_real(xk_ * freqs_cis).flatten(3)\n",
    "    return xq_out.type_as(xq), xk_out.type_as(xk)"
   ]
  },
  {
   "cell_type": "markdown",
   "metadata": {},
   "source": [
    "The code below shows how rotary position embedding converts embeddings into a complex number space, applies frequency-based transformations for positional encoding, and then converts them back to the original space, now with more positional information"
   ]
  },
  {
   "cell_type": "code",
   "execution_count": 41,
   "metadata": {},
   "outputs": [
    {
     "name": "stdout",
     "output_type": "stream",
     "text": [
      "Original Shapes: xq: torch.Size([1, 10, 128]), xk: torch.Size([1, 10, 128]), freqs_cis: torch.Size([10, 64])\n",
      "Reshaped freqs_cis for Broadcasting: torch.Size([1, 10, 64])\n",
      "After RotaryPositionEmbedding: xq_rot: torch.Size([1, 10, 64, 2]), xk_rot: torch.Size([1, 10, 64, 2])\n",
      "\n",
      "\n",
      "Torch dimensions are now: [Batch, Tokens, Features, Real/Imaginary]\n"
     ]
    }
   ],
   "source": [
    "import torch\n",
    "from typing import Tuple\n",
    "\n",
    "#generate fake data \n",
    "def generate_fake_data():\n",
    "    #generate fake embeddings for query and key tensors, typically the shape would be (batch_size, num_tokens, embedding_dim)\n",
    "    #for simplicity, let's assume a small embedding dimension and a few tokens\n",
    "    xq = torch.randn(1, 10, 128) #query tensor with shape (batch, tokens, features)\n",
    "    xk = torch.randn(1, 10, 128) #key tensor with the same shape as query\n",
    "\n",
    "    #generate a fake frequency tensor\n",
    "    freqs_cis = torch.randn(10, 64) #frequency tensor with shape (tokens, features/2) as it will be used with complex numbers\n",
    "\n",
    "    return xq, xk, freqs_cis\n",
    "\n",
    "\n",
    "#generate fake data\n",
    "xq, xk, freqs_cis = generate_fake_data()\n",
    "\n",
    "#visualize the shapes before function application\n",
    "print(f'Original Shapes: xq: {xq.shape}, xk: {xk.shape}, freqs_cis: {freqs_cis.shape}')\n",
    "\n",
    "#apply the reshape_for_broadcast function\n",
    "reshaped_freqs_cis = reshape_for_broadcast(freqs_cis, torch.view_as_complex(xq.float().reshape(*xq.shape[:-1], -1, 2)))\n",
    "\n",
    "#visualize the shape after reshape_for_broadcast\n",
    "print(f'Reshaped freqs_cis for Broadcasting: {reshaped_freqs_cis.shape}')\n",
    "\n",
    "#apply the RotaryPositionEmbedding function\n",
    "xq_rot, xk_rot = RotaryPositionEmbedding(xq, xk, freqs_cis)\n",
    "\n",
    "#visualize the shapes after RotaryPositionEmbedding\n",
    "print(f'After RotaryPositionEmbedding: xq_rot: {xq_rot.shape}, xk_rot: {xk_rot.shape}')\n",
    "\n",
    "print('\\n')\n",
    "\n",
    "print('Torch dimensions are now: [Batch, Tokens, Features, Real/Imaginary]')"
   ]
  },
  {
   "cell_type": "markdown",
   "metadata": {},
   "source": [
    "# RMS-Normalization\n",
    "\n",
    "Root Mean Square Normalization is applied using specific learned weights."
   ]
  },
  {
   "cell_type": "code",
   "execution_count": 42,
   "metadata": {},
   "outputs": [],
   "source": [
    "class RMSNorm(nn.Module):\n",
    "\n",
    "    def __init__(self, dim: int, eps: float) -> None:\n",
    "        super().__init__()\n",
    "        self.eps = eps  # Epsilon value for numerical stability\n",
    "        self.gamma = nn.Parameter(torch.ones(dim))  # Learnable parameter for scaling\n",
    "\n",
    "    def forward(self, x: torch.Tensor) -> torch.Tensor:\n",
    "        # x: Input tensor of shape (Batch_Size, SeqLen, Dim)\n",
    "\n",
    "        # Calculate the root-mean-square norm along the last dimension\n",
    "        rms = torch.sqrt(torch.mean(x ** 2, dim=-1, keepdim=True) + self.eps)\n",
    "\n",
    "        # Normalize the input by dividing by the root-mean-square norm and scale with gamma\n",
    "        normalized_x = (x / rms) * self.gamma\n",
    "\n",
    "        return normalized_x  # Return the normalized tensor"
   ]
  },
  {
   "cell_type": "markdown",
   "metadata": {},
   "source": [
    "Using RMSNorm we see that the data has a reduced variance from sclaing the data by the root-mean-square norm. This gives us a more uniform distribution and reducing the impact of outliers. "
   ]
  },
  {
   "cell_type": "code",
   "execution_count": 43,
   "metadata": {},
   "outputs": [
    {
     "data": {
      "image/png": "[encoded data removed]",
      "text/plain": [
       "<Figure size 1200x600 with 2 Axes>"
      ]
     },
     "metadata": {},
     "output_type": "display_data"
    }
   ],
   "source": [
    "import matplotlib.pyplot as plt\n",
    "\n",
    "#generate fake data\n",
    "dim = 128  # Feature dimension\n",
    "batch_size = 5  # Number of sequences in a batch\n",
    "seq_len = 10  # Number of tokens per sequence\n",
    "eps = 1e-6  # Small epsilon for numerical stability\n",
    "\n",
    "#fake input data resembling embeddings or features in a model like LLaMA 2\n",
    "x = torch.randn(batch_size, seq_len, dim) * torch.randint(1, 10, (batch_size, seq_len, 1)).float()\n",
    "\n",
    "#initialize RMSNorm\n",
    "rms_norm = RMSNorm(dim, eps)\n",
    "\n",
    "#apply RMSNorm to the fake data\n",
    "normalized_x = rms_norm(x)\n",
    "\n",
    "#plotting function to visualize the effect of RMSNorm\n",
    "def plot_data(before, after, title):\n",
    "    plt.figure(figsize=(12, 6))\n",
    "    plt.subplot(1, 2, 1)\n",
    "    plt.hist(before.flatten().numpy(), bins=50, alpha=0.7)\n",
    "    plt.title('Before RMSNorm')\n",
    "    plt.xlabel('Value')\n",
    "    plt.ylabel('Frequency')\n",
    "\n",
    "    plt.subplot(1, 2, 2)\n",
    "    plt.hist(after.flatten().detach().numpy(), bins=50, alpha=0.7, color='orange')  # Updated to use .detach().numpy()\n",
    "    plt.title('After RMSNorm')\n",
    "    plt.xlabel('Value')\n",
    "\n",
    "    plt.suptitle(title)\n",
    "    plt.show()\n",
    "\n",
    "# Visualize the effect of RMSNorm again with the updated plotting function\n",
    "plot_data(x, normalized_x, 'Effect of RMSNorm Normalization')"
   ]
  },
  {
   "cell_type": "markdown",
   "metadata": {},
   "source": [
    "# Swi-GLU Activation\n",
    "\n",
    "The paper proposed additional variants of the Transformer FFN layer from \"Attention Is All You Need\":\n",
    "\n",
    "FFNGLU(x,W,V,W2) = (σ(xW)⊗xV)W2\n",
    "\n",
    "FFNBilinear(x,W,V,W2) = (xW ⊗xV )W2\n",
    "\n",
    "FFNReGLU(x,W,V,W2) = (max(0,xW)⊗xV)W2\n",
    "\n",
    "FFNGEGLU(x,W,V,W2) = (GELU(xW)⊗xV)W2\n",
    "\n",
    "FFNSwiGLU(x,W,V,W2) = (Swish1(xW)⊗xV)W2\n",
    "\n",
    "From the conclusion of https://arxiv.org/pdf/2002.05202.pdf \n",
    "\n",
    "\"In a transfer-learning setup the new variants seem to produce better perplexities for the de-noising objective used in pre-training, as well as better results on many downstream language-understanding tasks.These architectures are simple to implement, and have no apparent computational drawbacks. We offer no explanation as to why these architectures seem to work; we attribute their success, as all else, to divine benevolence. "
   ]
  },
  {
   "cell_type": "code",
   "execution_count": 44,
   "metadata": {},
   "outputs": [
    {
     "data": {
      "image/png": "[encoded data removed]",
      "text/plain": [
       "<Figure size 640x480 with 1 Axes>"
      ]
     },
     "metadata": {},
     "output_type": "display_data"
    }
   ],
   "source": [
    "import numpy as np\n",
    "import matplotlib.pyplot as plt\n",
    "from scipy.stats import norm\n",
    "\n",
    "def gelu(x):\n",
    "   return x * norm.cdf(x)\n",
    "\n",
    "def relu(x):\n",
    "   return np.maximum(0, x)\n",
    "\n",
    "def swish(x, beta=1):\n",
    "   return x * (1 / (1 + np.exp(-beta * x)))\n",
    "\n",
    "# Wasnt able to find this value listed in the paper, I believe it is learned. \n",
    "beta = .5\n",
    "\n",
    "x_values = np.linspace(-5, 5, 500)\n",
    "gelu_values = gelu(x_values)\n",
    "relu_values = relu(x_values)\n",
    "swish_values = swish(x_values)\n",
    "swish_values2 = swish(x_values, beta=beta)\n",
    "\n",
    "plt.plot(x_values, gelu_values, label='GELU')\n",
    "plt.plot(x_values, relu_values, label='ReLU')\n",
    "plt.plot(x_values, swish_values, label='Swish')\n",
    "plt.plot(x_values, swish_values2, label=f'Swish (beta={beta})')\n",
    "plt.title(\"GELU, ReLU, and Swish Activation Functions\")\n",
    "plt.xlabel(\"x\")\n",
    "plt.ylabel(\"Activation\")\n",
    "plt.grid()\n",
    "plt.legend()\n",
    "plt.show()"
   ]
  },
  {
   "cell_type": "code",
   "execution_count": 45,
   "metadata": {},
   "outputs": [],
   "source": [
    "class SwiGLU(nn.Module):\n",
    "    \"\"\"\n",
    "    SwiGLU paper:\n",
    "    https://arxiv.org/pdf/2002.05202v1.pdf\n",
    "\n",
    "    Swish activation function with Gated Linear Unit (GLU) gating mechanism\n",
    "    \"\"\"\n",
    "    def __init__(self, size: int, config: ModelConfig):\n",
    "        super().__init__()\n",
    "        self.config = config\n",
    "        self.linear_gate = nn.Linear(size, size)\n",
    "        self.linear = nn.Linear(size, size)\n",
    "        self.beta = torch.randn(1, requires_grad=True) # Learned parameter\n",
    "\n",
    "        self.beta = nn.Parameter(torch.ones(1))\n",
    "        self.register_parameter(\"beta\", self.beta)\n",
    "\n",
    "    def forward(self, x): \n",
    "        swish_gate = self.linear_gate(x) * torch.sigmoid(self.beta * self.linear_gate(x))\n",
    "        out = swish_gate * self.linear(x)\n",
    "        return out"
   ]
  },
  {
   "cell_type": "code",
   "execution_count": 46,
   "metadata": {},
   "outputs": [],
   "source": [
    "class SelfAttention(nn.Module):\n",
    "\n",
    "    def __init__(self, args: ModelConfig):\n",
    "        super().__init__()\n",
    "        self.dim = args.dim\n",
    "\n",
    "        # Determine the number of key-value heads (defaults to n_heads if not specified)\n",
    "        self.n_kv_heads = args.n_kv_heads if args.n_kv_heads is not None else args.n_heads\n",
    "\n",
    "        # Set the number of query heads and the number of repetitions for K and V\n",
    "        self.n_heads_q = args.n_heads\n",
    "        self.n_rep = self.n_heads_q // self.n_kv_heads\n",
    "\n",
    "        # Calculate the head dimension\n",
    "        self.head_dim = args.dim // args.n_heads\n",
    "\n",
    "        # Linear transformations for queries, keys, values, and output\n",
    "        self.Wq = nn.Linear(args.dim, args.n_heads * self.head_dim, bias=False)\n",
    "        self.Wk = nn.Linear(args.dim, args.n_kv_heads * self.head_dim, bias=False)\n",
    "        self.Wv = nn.Linear(args.dim, args.n_kv_heads * self.head_dim, bias=False)\n",
    "        self.Wo = nn.Linear(args.n_heads * self.head_dim, args.dim, bias=False)\n",
    "\n",
    "        # Initialize key and value caches with zeros\n",
    "        self.cache_k = torch.zeros((args.max_batch_size, args.max_seq_len, args.n_kv_heads, self.head_dim))\n",
    "        self.cache_v = torch.zeros((args.max_batch_size, args.max_seq_len, args.n_kv_heads, self.head_dim))\n",
    "\n",
    "        # Rotary Position Embedding\n",
    "        self.rope = RotaryPositionEmbedding(self.head_dim, args.max_seq_len, args.device)\n",
    "\n",
    "    @staticmethod\n",
    "    def repeat_heads(x: torch.Tensor, n_rep: int) -> torch.Tensor:\n",
    "\n",
    "        # Repeat the heads of K and V to match the number of heads in Q\n",
    "\n",
    "        batch_size, seq_len, n_kv_heads, head_dim = x.shape\n",
    "        if n_rep == 1:\n",
    "            return x\n",
    "        else:\n",
    "            return (x[:, :, :, None, :]\n",
    "                    .expand(batch_size, seq_len, n_kv_heads, n_rep, head_dim)\n",
    "                    .reshape(batch_size, seq_len, n_kv_heads * n_rep, head_dim)\n",
    "                    )\n",
    "\n",
    "    def forward(self, x: torch.Tensor, start_pos: int) -> torch.Tensor:\n",
    "        batch_size, seq_len, dim = x.shape  # (B, 1, dim)\n",
    "        assert dim == self.dim, \"dim must be equal to self.dim\"\n",
    "\n",
    "        # (B, 1, dim) -> (B, 1, n_heads_q * head_dim)\n",
    "        xq = self.Wq(x)\n",
    "\n",
    "        # (B, 1, dim) -> (B, 1, n_kv_heads * head_dim)\n",
    "        xk = self.Wk(x)\n",
    "\n",
    "        # (B, 1, dim) -> (B, 1, n_kv_heads * head_dim)\n",
    "        xv = self.Wv(x)\n",
    "\n",
    "        # (B, 1, n_heads_q * head_dim) -> (B, 1, n_heads_q, head_dim)\n",
    "        xq = xq.view(batch_size, seq_len, self.n_heads_q, self.head_dim)\n",
    "\n",
    "        # (B, 1, n_kv_heads * head_dim) -> (B, 1, n_kv_heads, head_dim)\n",
    "        xk = xk.view(batch_size, seq_len, self.n_kv_heads, self.head_dim)\n",
    "        xv = xv.view(batch_size, seq_len, self.n_kv_heads, self.head_dim)\n",
    "\n",
    "        xq = self.rope(xq, start_pos)\n",
    "        xk = self.rope(xk, start_pos)\n",
    "\n",
    "        # Update key and value caches\n",
    "        self.cache_k[:batch_size, start_pos:start_pos + seq_len] = xk\n",
    "        self.cache_v[:batch_size, start_pos:start_pos + seq_len] = xv\n",
    "\n",
    "        # Retrieve key and value caches\n",
    "        keys = self.cache_k[:batch_size, :start_pos + seq_len]\n",
    "        values = self.cache_v[:batch_size, :start_pos + seq_len]\n",
    "\n",
    "        # Repeat the heads of K and V to match the number of heads in Q\n",
    "        keys = self.repeat_heads(keys, self.n_rep)\n",
    "        values = self.repeat_heads(values, self.n_rep)\n",
    "\n",
    "        # (B, 1, n_heads_q, head_dim) -> (B, n_heads_q, 1, head_dim)\n",
    "        xq = xq.transpose(1, 2)\n",
    "        keys = keys.transpose(1, 2)\n",
    "        values = values.transpose(1, 2)\n",
    "\n",
    "        # (B, n_heads_q, 1, head_dim) * (B, n_heads_q, head_dim, SeqLen) -> (B, n_heads_q, 1, SeqLen)\n",
    "        scores = torch.matmul(xq, keys.transpose(-2, -1)) / math.sqrt(self.head_dim)\n",
    "        scores = F.softmax(scores.float(), dim=-1).type_as(xq)\n",
    "\n",
    "        # (B, n_heads_q, 1, SeqLen) * (B, n_heads_q, SeqLen, head_dim) -> (B, n_heads_q, 1, head_dim)\n",
    "        context = torch.matmul(scores, values)\n",
    "\n",
    "        # (B, n_heads_q, 1, head_dim) -> (B, 1, head_dim)\n",
    "        context = context.transpose(1, 2).contiguous().view(batch_size, seq_len, -1)\n",
    "\n",
    "        # (B, 1, head_dim) -> (B, 1, dim)\n",
    "        output = self.Wo(context)\n",
    "\n",
    "        return output\n",
    "\n",
    "\n",
    "class FeedForward(nn.Module):\n",
    "\n",
    "    def __init__(self, args: ModelConfig):\n",
    "        super().__init__()\n",
    "\n",
    "        # Calculate the hidden dimension based on the provided parameters\n",
    "        hidden_dim = 4 * args.dim\n",
    "        hidden_dim = int(2 * hidden_dim / 3)\n",
    "\n",
    "        # Adjust the hidden dimension based on ffn_dim_multiplier (if provided)\n",
    "        if args.ffn_dim_multiplier is not None:\n",
    "            hidden_dim = int(args.ffn_dim_multiplier * hidden_dim)\n",
    "\n",
    "        # Ensure hidden_dim is a multiple of args.multiple_of\n",
    "        if hasattr(args, 'multiple_of'):\n",
    "            hidden_dim = args.multiple_of * ((hidden_dim + args.multiple_of - 1) // args.multiple_of)\n",
    "\n",
    "        # Use ffn_dim_multiplier to calculate the hidden dimension if it exists\n",
    "        if hasattr(args, 'ffn_dim_multiplier') and args.ffn_dim_multiplier is not None:\n",
    "            hidden_dim = int(args.ffn_dim_multiplier * hidden_dim)\n",
    "        \n",
    "        # Initialize SwiGLU layers\n",
    "        self.swiglu1 = SwiGLU(args.dim, args)\n",
    "        self.swiglu2 = SwiGLU(hidden_dim, args)\n",
    "\n",
    "    def forward(self, x: torch.Tensor) -> torch.Tensor:\n",
    "        # Input shape: (Batch_Size, SeqLen, Dim)\n",
    "\n",
    "        # Apply the first linear transformation and activation (swish)\n",
    "        x = self.swiglu1(x)\n",
    "\n",
    "        # Apply the second linear transformation and activation (swish)\n",
    "        x = self.swiglu2(x)\n",
    "\n",
    "        return x  # Return the output tensor\n",
    "\n",
    "\n",
    "class EncoderBlock(nn.Module):\n",
    "\n",
    "    def __init__(self, args: ModelConfig):\n",
    "        super().__init__()\n",
    "\n",
    "        self.n_heads = args.n_heads\n",
    "        self.dim = args.dim\n",
    "        self.head_dim = args.dim // args.n_heads\n",
    "\n",
    "        self.attention = SelfAttention(args)\n",
    "        self.feed_forward = FeedForward(args)\n",
    "\n",
    "        self.norm1 = RMSNorm(args.dim, args.norm_eps)\n",
    "        self.ffn_norm = RMSNorm(args.dim, args.norm_eps)\n",
    "\n",
    "    def forward(self, x: torch.Tensor, start_pos: int) -> torch.Tensor:\n",
    "        h = x + self.attention(self.norm1(x), start_pos)\n",
    "        out = h + self.feed_forward(self.ffn_norm(h))\n",
    "        return out\n",
    "\n",
    "\n",
    "class Transformer(nn.Module):\n",
    "\n",
    "    def __init__(self, args: ModelConfig) -> None:\n",
    "        super().__init__()\n",
    "\n",
    "        # Check if vocab_size is specified\n",
    "        assert args.vocab_size != -1, \"vocab_size must be specified\"\n",
    "\n",
    "        # Store model configuration and necessary parameters\n",
    "        self.args = args\n",
    "        self.vocab_size = args.vocab_size\n",
    "        self.n_layers = args.n_layers\n",
    "\n",
    "        # Embedding layer for token embeddings\n",
    "        self.embeddings = nn.Embedding(self.vocab_size, args.dim)\n",
    "\n",
    "        # Create a list of transformer encoder blocks\n",
    "        self.layers = nn.ModuleList()\n",
    "        for _ in range(args.n_layers):\n",
    "            self.layers.append(EncoderBlock(args))\n",
    "\n",
    "        # Layer normalization for the output\n",
    "        self.norm = RMSNorm(args.dim, args.norm_eps)\n",
    "\n",
    "        # Output linear layer\n",
    "        self.output = nn.Linear(args.dim, self.vocab_size, bias=False)\n",
    "\n",
    "    def forward(self, x: torch.Tensor, start_pos: int) -> torch.Tensor:\n",
    "        # Input shape: (Batch_Size, SeqLen)\n",
    "\n",
    "        # Ensure seq_len is 1\n",
    "        assert x.shape[1] == 1, \"seq_len must be 1\"\n",
    "\n",
    "        # Embedding lookup\n",
    "        x = self.embeddings(x)\n",
    "\n",
    "        # Pass through each transformer encoder block\n",
    "        for layer in self.layers:\n",
    "            x = layer(x, start_pos)\n",
    "\n",
    "        # Layer normalization\n",
    "        x = self.norm(x)\n",
    "\n",
    "        # Output prediction\n",
    "        x = self.output(x)\n",
    "\n",
    "        return x  # Return the output"
   ]
  },
  {
   "cell_type": "markdown",
   "metadata": {},
   "source": [
    "Resources: \n",
    "\n",
    "https://huggingface.co/blog/llama2\n",
    "\n",
    "https://medium.com/@jain.sm/understanding-llama-2-333aae52508c\n",
    "\n",
    "https://github.com/bkitano/llama-from-scratch/tree/main\n",
    "\n",
    "https://arxiv.org/pdf/2002.05202.pdf\n",
    "\n",
    "https://arxiv.org/pdf/2307.09288.pdf\n",
    "\n",
    "https://github.com/meta-llama/llama/blob/main/llama/model.py \n"
   ]
  }
 ],
 "metadata": {
  "kernelspec": {
   "display_name": "Python 3",
   "language": "python",
   "name": "python3"
  },
  "language_info": {
   "codemirror_mode": {
    "name": "ipython",
    "version": 3
   },
   "file_extension": ".py",
   "mimetype": "text/x-python",
   "name": "python",
   "nbconvert_exporter": "python",
   "pygments_lexer": "ipython3",
   "version": "3.11.8"
  }
 },
 "nbformat": 4,
 "nbformat_minor": 2
}
